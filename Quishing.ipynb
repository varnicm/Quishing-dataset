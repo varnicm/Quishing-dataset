{
  "cells": [
    {
      "cell_type": "code",
      "execution_count": null,
      "id": "d05bf0f9",
      "metadata": {
        "id": "d05bf0f9"
      },
      "outputs": [],
      "source": [
        "##extract url from QR code"
      ]
    },
    {
      "cell_type": "code",
      "execution_count": null,
      "id": "191885cf",
      "metadata": {
        "colab": {
          "base_uri": "https://localhost:8080/",
          "height": 39
        },
        "id": "191885cf",
        "outputId": "5f56ce0b-fefe-4473-cf5a-a0b4e9ed5e86"
      },
      "outputs": [
        {
          "output_type": "display_data",
          "data": {
            "text/plain": [
              "<IPython.core.display.HTML object>"
            ],
            "text/html": [
              "\n",
              "     <input type=\"file\" id=\"files-642ab2ab-f4bb-41c2-ba38-9e7f6b4cef92\" name=\"files[]\" multiple disabled\n",
              "        style=\"border:none\" />\n",
              "     <output id=\"result-642ab2ab-f4bb-41c2-ba38-9e7f6b4cef92\">\n",
              "      Upload widget is only available when the cell has been executed in the\n",
              "      current browser session. Please rerun this cell to enable.\n",
              "      </output>\n",
              "      <script>// Copyright 2017 Google LLC\n",
              "//\n",
              "// Licensed under the Apache License, Version 2.0 (the \"License\");\n",
              "// you may not use this file except in compliance with the License.\n",
              "// You may obtain a copy of the License at\n",
              "//\n",
              "//      http://www.apache.org/licenses/LICENSE-2.0\n",
              "//\n",
              "// Unless required by applicable law or agreed to in writing, software\n",
              "// distributed under the License is distributed on an \"AS IS\" BASIS,\n",
              "// WITHOUT WARRANTIES OR CONDITIONS OF ANY KIND, either express or implied.\n",
              "// See the License for the specific language governing permissions and\n",
              "// limitations under the License.\n",
              "\n",
              "/**\n",
              " * @fileoverview Helpers for google.colab Python module.\n",
              " */\n",
              "(function(scope) {\n",
              "function span(text, styleAttributes = {}) {\n",
              "  const element = document.createElement('span');\n",
              "  element.textContent = text;\n",
              "  for (const key of Object.keys(styleAttributes)) {\n",
              "    element.style[key] = styleAttributes[key];\n",
              "  }\n",
              "  return element;\n",
              "}\n",
              "\n",
              "// Max number of bytes which will be uploaded at a time.\n",
              "const MAX_PAYLOAD_SIZE = 100 * 1024;\n",
              "\n",
              "function _uploadFiles(inputId, outputId) {\n",
              "  const steps = uploadFilesStep(inputId, outputId);\n",
              "  const outputElement = document.getElementById(outputId);\n",
              "  // Cache steps on the outputElement to make it available for the next call\n",
              "  // to uploadFilesContinue from Python.\n",
              "  outputElement.steps = steps;\n",
              "\n",
              "  return _uploadFilesContinue(outputId);\n",
              "}\n",
              "\n",
              "// This is roughly an async generator (not supported in the browser yet),\n",
              "// where there are multiple asynchronous steps and the Python side is going\n",
              "// to poll for completion of each step.\n",
              "// This uses a Promise to block the python side on completion of each step,\n",
              "// then passes the result of the previous step as the input to the next step.\n",
              "function _uploadFilesContinue(outputId) {\n",
              "  const outputElement = document.getElementById(outputId);\n",
              "  const steps = outputElement.steps;\n",
              "\n",
              "  const next = steps.next(outputElement.lastPromiseValue);\n",
              "  return Promise.resolve(next.value.promise).then((value) => {\n",
              "    // Cache the last promise value to make it available to the next\n",
              "    // step of the generator.\n",
              "    outputElement.lastPromiseValue = value;\n",
              "    return next.value.response;\n",
              "  });\n",
              "}\n",
              "\n",
              "/**\n",
              " * Generator function which is called between each async step of the upload\n",
              " * process.\n",
              " * @param {string} inputId Element ID of the input file picker element.\n",
              " * @param {string} outputId Element ID of the output display.\n",
              " * @return {!Iterable<!Object>} Iterable of next steps.\n",
              " */\n",
              "function* uploadFilesStep(inputId, outputId) {\n",
              "  const inputElement = document.getElementById(inputId);\n",
              "  inputElement.disabled = false;\n",
              "\n",
              "  const outputElement = document.getElementById(outputId);\n",
              "  outputElement.innerHTML = '';\n",
              "\n",
              "  const pickedPromise = new Promise((resolve) => {\n",
              "    inputElement.addEventListener('change', (e) => {\n",
              "      resolve(e.target.files);\n",
              "    });\n",
              "  });\n",
              "\n",
              "  const cancel = document.createElement('button');\n",
              "  inputElement.parentElement.appendChild(cancel);\n",
              "  cancel.textContent = 'Cancel upload';\n",
              "  const cancelPromise = new Promise((resolve) => {\n",
              "    cancel.onclick = () => {\n",
              "      resolve(null);\n",
              "    };\n",
              "  });\n",
              "\n",
              "  // Wait for the user to pick the files.\n",
              "  const files = yield {\n",
              "    promise: Promise.race([pickedPromise, cancelPromise]),\n",
              "    response: {\n",
              "      action: 'starting',\n",
              "    }\n",
              "  };\n",
              "\n",
              "  cancel.remove();\n",
              "\n",
              "  // Disable the input element since further picks are not allowed.\n",
              "  inputElement.disabled = true;\n",
              "\n",
              "  if (!files) {\n",
              "    return {\n",
              "      response: {\n",
              "        action: 'complete',\n",
              "      }\n",
              "    };\n",
              "  }\n",
              "\n",
              "  for (const file of files) {\n",
              "    const li = document.createElement('li');\n",
              "    li.append(span(file.name, {fontWeight: 'bold'}));\n",
              "    li.append(span(\n",
              "        `(${file.type || 'n/a'}) - ${file.size} bytes, ` +\n",
              "        `last modified: ${\n",
              "            file.lastModifiedDate ? file.lastModifiedDate.toLocaleDateString() :\n",
              "                                    'n/a'} - `));\n",
              "    const percent = span('0% done');\n",
              "    li.appendChild(percent);\n",
              "\n",
              "    outputElement.appendChild(li);\n",
              "\n",
              "    const fileDataPromise = new Promise((resolve) => {\n",
              "      const reader = new FileReader();\n",
              "      reader.onload = (e) => {\n",
              "        resolve(e.target.result);\n",
              "      };\n",
              "      reader.readAsArrayBuffer(file);\n",
              "    });\n",
              "    // Wait for the data to be ready.\n",
              "    let fileData = yield {\n",
              "      promise: fileDataPromise,\n",
              "      response: {\n",
              "        action: 'continue',\n",
              "      }\n",
              "    };\n",
              "\n",
              "    // Use a chunked sending to avoid message size limits. See b/62115660.\n",
              "    let position = 0;\n",
              "    do {\n",
              "      const length = Math.min(fileData.byteLength - position, MAX_PAYLOAD_SIZE);\n",
              "      const chunk = new Uint8Array(fileData, position, length);\n",
              "      position += length;\n",
              "\n",
              "      const base64 = btoa(String.fromCharCode.apply(null, chunk));\n",
              "      yield {\n",
              "        response: {\n",
              "          action: 'append',\n",
              "          file: file.name,\n",
              "          data: base64,\n",
              "        },\n",
              "      };\n",
              "\n",
              "      let percentDone = fileData.byteLength === 0 ?\n",
              "          100 :\n",
              "          Math.round((position / fileData.byteLength) * 100);\n",
              "      percent.textContent = `${percentDone}% done`;\n",
              "\n",
              "    } while (position < fileData.byteLength);\n",
              "  }\n",
              "\n",
              "  // All done.\n",
              "  yield {\n",
              "    response: {\n",
              "      action: 'complete',\n",
              "    }\n",
              "  };\n",
              "}\n",
              "\n",
              "scope.google = scope.google || {};\n",
              "scope.google.colab = scope.google.colab || {};\n",
              "scope.google.colab._files = {\n",
              "  _uploadFiles,\n",
              "  _uploadFilesContinue,\n",
              "};\n",
              "})(self);\n",
              "</script> "
            ]
          },
          "metadata": {}
        }
      ],
      "source": [
        "import cv2\n",
        "from google.colab import files\n",
        "from io import BytesIO\n",
        "import numpy as np\n",
        "from PIL import Image\n",
        "\n",
        "# Upload the image file\n",
        "uploaded = files.upload()\n",
        "\n",
        "def extract_url_from_qr(image_path):\n",
        "    # Load the image\n",
        "    image = cv2.imread(image_path)\n",
        "\n",
        "    # Initialize the QRCode detector\n",
        "    qr_detector = cv2.QRCodeDetector()\n",
        "\n",
        "    # Detect and decode the QR code\n",
        "    url, points, _ = qr_detector.detectAndDecode(image)\n",
        "\n",
        "    if url:\n",
        "        print(\"URL extracted from QR code:\", url)\n",
        "        return url\n",
        "    else:\n",
        "        print(\"No QR code found in the image.\")\n",
        "        return None\n",
        "\n",
        "# Use the uploaded file\n",
        "for filename in uploaded.keys():\n",
        "    # Read the image in a format OpenCV understands\n",
        "    file_bytes = np.frombuffer(uploaded[filename], np.uint8)\n",
        "    image = cv2.imdecode(file_bytes, cv2.IMREAD_COLOR)\n",
        "\n",
        "    # Run QR code detection\n",
        "    extract_url_from_qr(filename)\n"
      ]
    },
    {
      "cell_type": "code",
      "execution_count": null,
      "id": "a4722203",
      "metadata": {
        "id": "a4722203"
      },
      "outputs": [],
      "source": [
        "##Misspelled - similiar lopoking URLs"
      ]
    },
    {
      "cell_type": "code",
      "source": [
        "pip install fuzzywuzzy"
      ],
      "metadata": {
        "colab": {
          "base_uri": "https://localhost:8080/"
        },
        "id": "Tpk9vrB5ICg9",
        "outputId": "93c67402-3e64-4c35-a317-48548a193c67"
      },
      "id": "Tpk9vrB5ICg9",
      "execution_count": null,
      "outputs": [
        {
          "output_type": "stream",
          "name": "stdout",
          "text": [
            "Requirement already satisfied: fuzzywuzzy in /usr/local/lib/python3.10/dist-packages (0.18.0)\n"
          ]
        }
      ]
    },
    {
      "cell_type": "code",
      "execution_count": null,
      "id": "72769374",
      "metadata": {
        "colab": {
          "base_uri": "https://localhost:8080/"
        },
        "id": "72769374",
        "outputId": "35ced965-9b5c-47db-91d5-ce28f50df90f"
      },
      "outputs": [
        {
          "output_type": "stream",
          "name": "stdout",
          "text": [
            "Enter the URL to check: sz7i.com/paypal.com.au.q/webscr.html?cmd=SignIn&co_partnerId=2&pUserId=&siteid=0&pageType=&pa1=&i1=&bshowgif=&UsingSSL=&ru=&pp=&pa2=&errmsg=&runameMessage-ID:\n",
            "Extracted Domain: sz7i.com\n",
            "sz7i.com is a legitimate domain or does not resemble any known domains closely enough to be suspicious.\n"
          ]
        }
      ],
      "source": [
        "from urllib.parse import urlparse\n",
        "from fuzzywuzzy import fuzz\n",
        "\n",
        "# Define a list of known legitimate domains\n",
        "legit_domains = [\"paypal.com\", \"amazon.com\", \"google.com\", \"facebook.com\"]\n",
        "\n",
        "# Function to extract domain from a full URL\n",
        "def extract_domain(url):\n",
        "    # Add a scheme if missing\n",
        "    if not url.startswith((\"http://\", \"https://\")):\n",
        "        url = \"https://\" + url\n",
        "    parsed_url = urlparse(url)\n",
        "    return parsed_url.netloc\n",
        "\n",
        "# Function to check if a domain is similar to known legitimate domains\n",
        "def detect_similar_domain(domain, threshold=80):\n",
        "    \"\"\"\n",
        "    Detects if a domain is suspicious by checking similarity with legitimate domains,\n",
        "    excluding exact matches.\n",
        "\n",
        "    Parameters:\n",
        "    - domain (str): Domain to check\n",
        "    - threshold (int): Similarity threshold for considering a domain as suspicious (default 80)\n",
        "\n",
        "    Returns:\n",
        "    - list: List of legitimate domains that are similar to the input domain\n",
        "    \"\"\"\n",
        "    similar_domains = []\n",
        "    for legit in legit_domains:\n",
        "        similarity_score = fuzz.ratio(domain, legit)\n",
        "        # Exclude exact matches and only consider similar matches\n",
        "        if similarity_score >= threshold and domain != legit:\n",
        "            similar_domains.append((legit, similarity_score))\n",
        "    return similar_domains\n",
        "\n",
        "# Get a single URL from the user\n",
        "user_url = input(\"Enter the URL to check: \")\n",
        "\n",
        "# Extract the domain from the URL\n",
        "domain = extract_domain(user_url)\n",
        "print(f\"Extracted Domain: {domain}\")\n",
        "\n",
        "# Check the extracted domain for similarity\n",
        "results = detect_similar_domain(domain)\n",
        "if results:\n",
        "    print(f\"Suspicious Domain Detected: {domain}\")\n",
        "    for legit_domain, score in results:\n",
        "        print(f\" - Similar to {legit_domain} with score {score}%\")\n",
        "else:\n",
        "    print(f\"{domain} is a legitimate domain or does not resemble any known domains closely enough to be suspicious.\")"
      ]
    },
    {
      "cell_type": "code",
      "execution_count": null,
      "id": "bb418332",
      "metadata": {
        "id": "bb418332"
      },
      "outputs": [],
      "source": [
        "## URL Shortner"
      ]
    },
    {
      "cell_type": "code",
      "execution_count": null,
      "id": "04e377b9",
      "metadata": {
        "colab": {
          "base_uri": "https://localhost:8080/"
        },
        "id": "04e377b9",
        "outputId": "bb6e104b-179b-4274-9fcb-d5258b89b62f"
      },
      "outputs": [
        {
          "output_type": "stream",
          "name": "stdout",
          "text": [
            "Enter the URL to check: bit.ly/ngfmhglkj\n",
            "The URL is a shortened link.\n"
          ]
        }
      ],
      "source": [
        "import re\n",
        "\n",
        "def is_shortened_url(url):\n",
        "    # Common URL shorteners\n",
        "    shortener_patterns = [\n",
        "        r'bit\\.ly',         # bit.ly\n",
        "        r'tinyurl\\.com',    # tinyurl.com\n",
        "        r'goo\\.gl',         # goo.gl\n",
        "        r'ow\\.ly',          # ow.ly\n",
        "        r't\\.co',           # t.co\n",
        "        r'cutt\\.ly',        # cutt.ly\n",
        "        r'lnkd\\.in',        # lnkd.in\n",
        "        r'fb\\.me',          # fb.me\n",
        "        r'is\\.gd',          # is.gd\n",
        "        r'shorte\\.st',      # shorte.st\n",
        "        r'v\\.gd',           # v.gd\n",
        "        r'snipurl\\.com',    # snipurl.com\n",
        "        r'bitly\\.com',      # bitly.com\n",
        "        r'clck\\.ru',        # clck.ru\n",
        "    ]\n",
        "\n",
        "    # Compile the patterns into a single regex\n",
        "    pattern = re.compile(r'|'.join(shortener_patterns), re.IGNORECASE)\n",
        "\n",
        "    # Check if the URL matches any of the shortener patterns\n",
        "    return bool(pattern.search(url))\n",
        "\n",
        "# Example usage\n",
        "url = input(\"Enter the URL to check: \")\n",
        "if is_shortened_url(url):\n",
        "    print(\"The URL is a shortened link.\")\n",
        "else:\n",
        "    print(\"The URL is not a shortened link.\")\n"
      ]
    },
    {
      "cell_type": "code",
      "execution_count": null,
      "id": "a7058035",
      "metadata": {
        "id": "a7058035"
      },
      "outputs": [],
      "source": [
        "##HTTPS Protocol"
      ]
    },
    {
      "cell_type": "code",
      "execution_count": null,
      "id": "ed430a3b",
      "metadata": {
        "colab": {
          "base_uri": "https://localhost:8080/"
        },
        "id": "ed430a3b",
        "outputId": "1f40e9c6-9122-44fd-bfdf-645deb049a16"
      },
      "outputs": [
        {
          "output_type": "stream",
          "name": "stdout",
          "text": [
            "Enter a URL: https://gmhgk.com\n",
            "The URL is flagged as: legitimate\n"
          ]
        }
      ],
      "source": [
        "# Function to flag a URL based on security indicators\n",
        "def flag_url_security(url):\n",
        "    # Assume URLs without a protocol as \"http://\"\n",
        "    if not url.startswith((\"http://\", \"https://\")):\n",
        "        url = \"http://\" + url\n",
        "\n",
        "    # Classify based on protocol\n",
        "    if url.startswith(\"https://\"):\n",
        "        return \"legitimate\"  # Legitimate (https present)\n",
        "    elif url.startswith(\"http://\"):\n",
        "        return \"more likely phishing\"  # More likely phishing attempt\n",
        "\n",
        "# Get user input for the URL\n",
        "url = input(\"Enter a URL: \")\n",
        "\n",
        "# Check the URL and display the result\n",
        "result = flag_url_security(url)\n",
        "print(f\"The URL is flagged as: {result}\")"
      ]
    },
    {
      "cell_type": "code",
      "execution_count": null,
      "id": "45c34ca0",
      "metadata": {
        "id": "45c34ca0"
      },
      "outputs": [],
      "source": [
        "## check subdomain if mimics other websites or has more than 2 levels"
      ]
    },
    {
      "cell_type": "code",
      "source": [
        "pip install tldextract"
      ],
      "metadata": {
        "colab": {
          "base_uri": "https://localhost:8080/"
        },
        "id": "JJ4WN4OgIVYV",
        "outputId": "a5c81d80-9a37-4260-d0e3-3b3a5c1cfe23"
      },
      "id": "JJ4WN4OgIVYV",
      "execution_count": null,
      "outputs": [
        {
          "output_type": "stream",
          "name": "stdout",
          "text": [
            "Requirement already satisfied: tldextract in /usr/local/lib/python3.10/dist-packages (5.1.2)\n",
            "Requirement already satisfied: idna in /usr/local/lib/python3.10/dist-packages (from tldextract) (3.10)\n",
            "Requirement already satisfied: requests>=2.1.0 in /usr/local/lib/python3.10/dist-packages (from tldextract) (2.32.3)\n",
            "Requirement already satisfied: requests-file>=1.4 in /usr/local/lib/python3.10/dist-packages (from tldextract) (2.1.0)\n",
            "Requirement already satisfied: filelock>=3.0.8 in /usr/local/lib/python3.10/dist-packages (from tldextract) (3.16.1)\n",
            "Requirement already satisfied: charset-normalizer<4,>=2 in /usr/local/lib/python3.10/dist-packages (from requests>=2.1.0->tldextract) (3.4.0)\n",
            "Requirement already satisfied: urllib3<3,>=1.21.1 in /usr/local/lib/python3.10/dist-packages (from requests>=2.1.0->tldextract) (2.2.3)\n",
            "Requirement already satisfied: certifi>=2017.4.17 in /usr/local/lib/python3.10/dist-packages (from requests>=2.1.0->tldextract) (2024.8.30)\n"
          ]
        }
      ]
    },
    {
      "cell_type": "code",
      "execution_count": null,
      "id": "9bc7c1b6",
      "metadata": {
        "colab": {
          "base_uri": "https://localhost:8080/"
        },
        "id": "9bc7c1b6",
        "outputId": "be6e4212-2849-487a-a9ab-540c91de30f5"
      },
      "outputs": [
        {
          "output_type": "stream",
          "name": "stdout",
          "text": [
            "Enter a URL to check: homaki.com.cgi-bin.login1589114111g859f.sonreir.cl/paypal/2/\n",
            "\n",
            "Checking URL: homaki.com.cgi-bin.login1589114111g859f.sonreir.cl/paypal/2/\n",
            "Phishing attempt detected: more than 2 subdomain levels in 'homaki.com.cgi-bin.login1589114111g859f'.\n"
          ]
        },
        {
          "output_type": "execute_result",
          "data": {
            "text/plain": [
              "True"
            ]
          },
          "metadata": {},
          "execution_count": 20
        }
      ],
      "source": [
        "import tldextract\n",
        "\n",
        "# List of known brand names to check for in subdomains\n",
        "brand_names = [\"paypal\", \"amazon\", \"google\", \"facebook\", \"bank\", \"microsoft\", \"apple\"]\n",
        "\n",
        "def is_phishing_subdomain(url):\n",
        "    # Extract components of the URL\n",
        "    extracted = tldextract.extract(url)\n",
        "    subdomain = extracted.subdomain\n",
        "    domain = extracted.domain\n",
        "\n",
        "    # Check if any brand name is in the subdomain\n",
        "    for brand in brand_names:\n",
        "        if brand in subdomain.lower():\n",
        "            print(f\"Phishing attempt detected: suspicious brand '{brand}' found in subdomain '{subdomain}'.\")\n",
        "            return True\n",
        "\n",
        "    # Check if there are more than 2 levels of subdomains\n",
        "    subdomain_levels = subdomain.split(\".\")\n",
        "    if len(subdomain_levels) > 2:\n",
        "        print(f\"Phishing attempt detected: more than 2 subdomain levels in '{subdomain}'.\")\n",
        "        return True\n",
        "\n",
        "    print(\"No phishing characteristics detected.\")\n",
        "    return False\n",
        "\n",
        "# Input URL from user\n",
        "url = input(\"Enter a URL to check: \")\n",
        "print(f\"\\nChecking URL: {url}\")\n",
        "is_phishing_subdomain(url)\n"
      ]
    },
    {
      "cell_type": "code",
      "execution_count": null,
      "id": "a12def1b",
      "metadata": {
        "id": "a12def1b"
      },
      "outputs": [],
      "source": [
        "## Special characters or random-likely domains"
      ]
    },
    {
      "cell_type": "code",
      "execution_count": null,
      "id": "f339352f",
      "metadata": {
        "colab": {
          "base_uri": "https://localhost:8080/"
        },
        "id": "f339352f",
        "outputId": "ccd0d9e8-e4ef-45de-bbe3-30bbf7abdbb3"
      },
      "outputs": [
        {
          "output_type": "stream",
          "name": "stdout",
          "text": [
            "Enter the URL to analyze (e.g., 'https://xyz123abc.net/path'): https://xyz123abc.net/path\n",
            "Suspicious - domain may have random-looking characters\n"
          ]
        }
      ],
      "source": [
        "import re\n",
        "import tldextract\n",
        "\n",
        "# Function to analyze if the domain part of the URL looks random\n",
        "def detect_random_looking_domain(url):\n",
        "    # Extract the domain (without subdomains or TLDs) using tldextract\n",
        "    extracted = tldextract.extract(url)\n",
        "    domain = extracted.domain\n",
        "\n",
        "    # Regex to detect domains with unusual patterns of letters and numbers\n",
        "    # Examples: 4+ letters/numbers sequences followed by letters/numbers\n",
        "    pattern = re.compile(r'([a-z]{2,}[0-9]{2,}|[0-9]{2,}[a-z]{2,})', re.IGNORECASE)\n",
        "\n",
        "    # Check if the domain matches the pattern\n",
        "    if pattern.search(domain):\n",
        "        return \"Suspicious - domain may have random-looking characters\"\n",
        "    return \"Non-suspicious - domain looks normal\"\n",
        "\n",
        "# Take a single URL as user input\n",
        "user_input = input(\"Enter the URL to analyze (e.g., 'https://xyz123abc.net/path'): \")\n",
        "result = detect_random_looking_domain(user_input)\n",
        "\n",
        "# Output the result\n",
        "print(result)\n"
      ]
    },
    {
      "cell_type": "code",
      "execution_count": null,
      "id": "c76d7300",
      "metadata": {
        "id": "c76d7300"
      },
      "outputs": [],
      "source": [
        "## check for top-level domains"
      ]
    },
    {
      "cell_type": "code",
      "execution_count": null,
      "id": "f907d8a9",
      "metadata": {
        "colab": {
          "base_uri": "https://localhost:8080/"
        },
        "id": "f907d8a9",
        "outputId": "4fe0d3ab-cbf4-4473-e659-b45a2c825a37"
      },
      "outputs": [
        {
          "output_type": "stream",
          "name": "stdout",
          "text": [
            "Enter a URL to check for unusual TLD: https://xyz123abc.ir/path\n",
            "https://xyz123abc.ir/path -> Unusual TLD detected, candidate for phishing\n"
          ]
        }
      ],
      "source": [
        "from urllib.parse import urlparse\n",
        "\n",
        "# List of common TLDs\n",
        "COMMON_TLDS = {\n",
        "    \".com\", \".org\", \".net\", \".gov\", \".edu\", \".mil\", \".co\", \".us\", \".uk\",\n",
        "    \".de\", \".jp\", \".fr\", \".au\", \".br\", \".ca\", \".cn\", \".ru\", \".nl\", \".se\", \".in\"\n",
        "}\n",
        "\n",
        "def is_unusual_tld(url):\n",
        "    \"\"\"\n",
        "    Detects if the URL has an unusual TLD and marks it as a phishing candidate.\n",
        "    Returns True if the TLD is unusual, otherwise False.\n",
        "    \"\"\"\n",
        "    try:\n",
        "        # Parse the URL to get the domain and TLD\n",
        "        parsed_url = urlparse(url)\n",
        "        domain_parts = parsed_url.netloc.split('.')\n",
        "        # Get the TLD, assuming the last part of the domain is the TLD\n",
        "        tld = '.' + domain_parts[-1]\n",
        "\n",
        "        # Check if the TLD is unusual (not in COMMON_TLDS)\n",
        "        if tld not in COMMON_TLDS:\n",
        "            return True  # Unusual TLD found, possible phishing candidate\n",
        "        else:\n",
        "            return False  # Common TLD, likely safe\n",
        "    except Exception as e:\n",
        "        print(f\"Error parsing URL {url}: {e}\")\n",
        "        return False\n",
        "\n",
        "# Get a single URL input from the user\n",
        "user_url = input(\"Enter a URL to check for unusual TLD: \")\n",
        "\n",
        "# Check the TLD of the provided URL\n",
        "if is_unusual_tld(user_url):\n",
        "    print(f\"{user_url} -> Unusual TLD detected, candidate for phishing\")\n",
        "else:\n",
        "    print(f\"{user_url} -> Common TLD, likely safe\")"
      ]
    },
    {
      "cell_type": "code",
      "execution_count": null,
      "id": "ee5f522a",
      "metadata": {
        "id": "ee5f522a"
      },
      "outputs": [],
      "source": [
        "## number of parameters in url, with threshold"
      ]
    },
    {
      "cell_type": "code",
      "execution_count": null,
      "id": "9e3be590",
      "metadata": {
        "colab": {
          "base_uri": "https://localhost:8080/"
        },
        "id": "9e3be590",
        "outputId": "6673f134-8cab-4a99-c98a-56192fdd541c"
      },
      "outputs": [
        {
          "output_type": "stream",
          "name": "stdout",
          "text": [
            "Enter a URL to check: www.sisimtel.com.mx/ecommerce/images/.../freebank/myposte/index.html?MfcISAPICommand=SignInFPP&UsingSSL=1&email=&userid=\n",
            "Suspicious URL: www.sisimtel.com.mx/ecommerce/images/.../freebank/myposte/index.html?MfcISAPICommand=SignInFPP&UsingSSL=1&email=&userid=\n",
            "Number of query parameters: 4\n"
          ]
        }
      ],
      "source": [
        "from urllib.parse import urlparse\n",
        "\n",
        "def count_query_parameters(url, threshold=3):\n",
        "    # Parse the URL to get the query string\n",
        "    parsed_url = urlparse(url)\n",
        "    # Split the query string on '&' to get all parameters, including empty ones\n",
        "    query_params = parsed_url.query.split('&')\n",
        "    # Count the number of parameters\n",
        "    param_count = len(query_params)\n",
        "\n",
        "    # Determine if the URL is suspicious based on the threshold\n",
        "    if param_count > threshold:\n",
        "        print(f\"Suspicious URL: {url}\")\n",
        "    else:\n",
        "        print(f\"URL is normal: {url}\")\n",
        "\n",
        "    # Return the count of parameters\n",
        "    return param_count\n",
        "\n",
        "# Take user input for the URL\n",
        "user_url = input(\"Enter a URL to check: \")\n",
        "count = count_query_parameters(user_url)\n",
        "print(f\"Number of query parameters: {count}\")"
      ]
    },
    {
      "cell_type": "code",
      "execution_count": null,
      "id": "47470764",
      "metadata": {
        "id": "47470764"
      },
      "outputs": [],
      "source": [
        "\n"
      ]
    }
  ],
  "metadata": {
    "kernelspec": {
      "display_name": "Python 3 (ipykernel)",
      "language": "python",
      "name": "python3"
    },
    "language_info": {
      "codemirror_mode": {
        "name": "ipython",
        "version": 3
      },
      "file_extension": ".py",
      "mimetype": "text/x-python",
      "name": "python",
      "nbconvert_exporter": "python",
      "pygments_lexer": "ipython3",
      "version": "3.11.5"
    },
    "colab": {
      "provenance": []
    }
  },
  "nbformat": 4,
  "nbformat_minor": 5
}